{
 "cells": [
  {
   "cell_type": "markdown",
   "id": "339b6a39",
   "metadata": {},
   "source": [
    "\n",
    "\n"
   ]
  },
  {
   "cell_type": "code",
   "execution_count": null,
   "id": "bd1f46b4",
   "metadata": {},
   "outputs": [],
   "source": [
    "#Sub Task 2 \n",
    "# The two classification algorithms chosen were KNN and MLP \n",
    "# The choice was made based on the fact that the test(validation data)\n",
    "#accuracy of these two algorithms was more than the algorithims \n",
    "# like SVC,Perceptron,logistic regression,Naive Bayes\n"
   ]
  },
  {
   "cell_type": "code",
   "execution_count": 30,
   "id": "7c1471ca",
   "metadata": {},
   "outputs": [],
   "source": [
    "import pandas as pd\n",
    "from sklearn import metrics\n",
    "import numpy as np\n",
    "from sklearn.metrics import accuracy_score\n",
    "from sklearn.metrics import f1_score\n",
    "from sklearn.model_selection import train_test_split\n",
    "import matplotlib.pyplot as plt\n",
    "from sklearn.metrics import classification_report\n",
    "from sklearn.metrics import confusion_matrix\n",
    "from sklearn.metrics import ConfusionMatrixDisplay\n",
    "from sklearn.preprocessing import StandardScaler\n",
    "from sklearn.neighbors import KNeighborsClassifier\n",
    "from sklearn.neural_network import MLPClassifier"
   ]
  },
  {
   "cell_type": "code",
   "execution_count": 2,
   "id": "195a7a73",
   "metadata": {},
   "outputs": [],
   "source": [
    "df=pd.read_csv('classification.csv',sep=',',header=None)"
   ]
  },
  {
   "cell_type": "code",
   "execution_count": 3,
   "id": "c511d938",
   "metadata": {},
   "outputs": [
    {
     "data": {
      "text/html": [
       "<div>\n",
       "<style scoped>\n",
       "    .dataframe tbody tr th:only-of-type {\n",
       "        vertical-align: middle;\n",
       "    }\n",
       "\n",
       "    .dataframe tbody tr th {\n",
       "        vertical-align: top;\n",
       "    }\n",
       "\n",
       "    .dataframe thead th {\n",
       "        text-align: right;\n",
       "    }\n",
       "</style>\n",
       "<table border=\"1\" class=\"dataframe\">\n",
       "  <thead>\n",
       "    <tr style=\"text-align: right;\">\n",
       "      <th></th>\n",
       "      <th>0</th>\n",
       "      <th>1</th>\n",
       "      <th>2</th>\n",
       "      <th>3</th>\n",
       "      <th>4</th>\n",
       "      <th>5</th>\n",
       "      <th>6</th>\n",
       "      <th>7</th>\n",
       "      <th>8</th>\n",
       "      <th>9</th>\n",
       "      <th>...</th>\n",
       "      <th>91</th>\n",
       "      <th>92</th>\n",
       "      <th>93</th>\n",
       "      <th>94</th>\n",
       "      <th>95</th>\n",
       "      <th>96</th>\n",
       "      <th>97</th>\n",
       "      <th>98</th>\n",
       "      <th>99</th>\n",
       "      <th>100</th>\n",
       "    </tr>\n",
       "  </thead>\n",
       "  <tbody>\n",
       "    <tr>\n",
       "      <th>0</th>\n",
       "      <td>0.994025</td>\n",
       "      <td>0.653002</td>\n",
       "      <td>0.446114</td>\n",
       "      <td>0.292221</td>\n",
       "      <td>1.249029</td>\n",
       "      <td>-0.246995</td>\n",
       "      <td>-0.428670</td>\n",
       "      <td>-0.751658</td>\n",
       "      <td>1.585431</td>\n",
       "      <td>-3.035016</td>\n",
       "      <td>...</td>\n",
       "      <td>-0.629799</td>\n",
       "      <td>0.570696</td>\n",
       "      <td>-0.966352</td>\n",
       "      <td>-0.185106</td>\n",
       "      <td>-0.857529</td>\n",
       "      <td>-0.356192</td>\n",
       "      <td>-1.936440</td>\n",
       "      <td>0.401144</td>\n",
       "      <td>1.153917</td>\n",
       "      <td>1.0</td>\n",
       "    </tr>\n",
       "    <tr>\n",
       "      <th>1</th>\n",
       "      <td>0.327973</td>\n",
       "      <td>0.176035</td>\n",
       "      <td>-0.904732</td>\n",
       "      <td>-0.373882</td>\n",
       "      <td>2.604021</td>\n",
       "      <td>0.207785</td>\n",
       "      <td>0.756931</td>\n",
       "      <td>0.618259</td>\n",
       "      <td>0.723490</td>\n",
       "      <td>-0.263568</td>\n",
       "      <td>...</td>\n",
       "      <td>1.482955</td>\n",
       "      <td>-1.639031</td>\n",
       "      <td>1.014630</td>\n",
       "      <td>1.175793</td>\n",
       "      <td>1.560685</td>\n",
       "      <td>-0.368825</td>\n",
       "      <td>1.332361</td>\n",
       "      <td>-0.572449</td>\n",
       "      <td>0.350933</td>\n",
       "      <td>1.0</td>\n",
       "    </tr>\n",
       "    <tr>\n",
       "      <th>2</th>\n",
       "      <td>0.403246</td>\n",
       "      <td>-0.205107</td>\n",
       "      <td>-1.380421</td>\n",
       "      <td>2.153790</td>\n",
       "      <td>-1.351427</td>\n",
       "      <td>-0.215740</td>\n",
       "      <td>-1.233797</td>\n",
       "      <td>0.558753</td>\n",
       "      <td>-0.902648</td>\n",
       "      <td>0.519458</td>\n",
       "      <td>...</td>\n",
       "      <td>-0.283883</td>\n",
       "      <td>1.689560</td>\n",
       "      <td>-0.371756</td>\n",
       "      <td>-0.611053</td>\n",
       "      <td>-1.773915</td>\n",
       "      <td>0.192610</td>\n",
       "      <td>0.015297</td>\n",
       "      <td>0.189114</td>\n",
       "      <td>-0.967398</td>\n",
       "      <td>0.0</td>\n",
       "    </tr>\n",
       "    <tr>\n",
       "      <th>3</th>\n",
       "      <td>-0.536353</td>\n",
       "      <td>-0.010243</td>\n",
       "      <td>1.642433</td>\n",
       "      <td>2.142179</td>\n",
       "      <td>0.083902</td>\n",
       "      <td>-0.115104</td>\n",
       "      <td>0.496016</td>\n",
       "      <td>1.678353</td>\n",
       "      <td>1.449779</td>\n",
       "      <td>-0.721026</td>\n",
       "      <td>...</td>\n",
       "      <td>-0.712594</td>\n",
       "      <td>-0.640335</td>\n",
       "      <td>1.444946</td>\n",
       "      <td>-0.274072</td>\n",
       "      <td>0.779582</td>\n",
       "      <td>0.377120</td>\n",
       "      <td>-0.484402</td>\n",
       "      <td>0.495000</td>\n",
       "      <td>1.078188</td>\n",
       "      <td>0.0</td>\n",
       "    </tr>\n",
       "    <tr>\n",
       "      <th>4</th>\n",
       "      <td>-0.091156</td>\n",
       "      <td>1.738505</td>\n",
       "      <td>-1.120414</td>\n",
       "      <td>-0.253840</td>\n",
       "      <td>-0.960416</td>\n",
       "      <td>-0.934310</td>\n",
       "      <td>-2.796113</td>\n",
       "      <td>-0.303539</td>\n",
       "      <td>-0.627029</td>\n",
       "      <td>-0.923029</td>\n",
       "      <td>...</td>\n",
       "      <td>1.370970</td>\n",
       "      <td>1.832749</td>\n",
       "      <td>-0.764466</td>\n",
       "      <td>-0.798898</td>\n",
       "      <td>-3.144816</td>\n",
       "      <td>0.041235</td>\n",
       "      <td>0.710892</td>\n",
       "      <td>1.701078</td>\n",
       "      <td>-1.190387</td>\n",
       "      <td>1.0</td>\n",
       "    </tr>\n",
       "  </tbody>\n",
       "</table>\n",
       "<p>5 rows × 101 columns</p>\n",
       "</div>"
      ],
      "text/plain": [
       "        0         1         2         3         4         5         6    \\\n",
       "0  0.994025  0.653002  0.446114  0.292221  1.249029 -0.246995 -0.428670   \n",
       "1  0.327973  0.176035 -0.904732 -0.373882  2.604021  0.207785  0.756931   \n",
       "2  0.403246 -0.205107 -1.380421  2.153790 -1.351427 -0.215740 -1.233797   \n",
       "3 -0.536353 -0.010243  1.642433  2.142179  0.083902 -0.115104  0.496016   \n",
       "4 -0.091156  1.738505 -1.120414 -0.253840 -0.960416 -0.934310 -2.796113   \n",
       "\n",
       "        7         8         9    ...       91        92        93        94   \\\n",
       "0 -0.751658  1.585431 -3.035016  ... -0.629799  0.570696 -0.966352 -0.185106   \n",
       "1  0.618259  0.723490 -0.263568  ...  1.482955 -1.639031  1.014630  1.175793   \n",
       "2  0.558753 -0.902648  0.519458  ... -0.283883  1.689560 -0.371756 -0.611053   \n",
       "3  1.678353  1.449779 -0.721026  ... -0.712594 -0.640335  1.444946 -0.274072   \n",
       "4 -0.303539 -0.627029 -0.923029  ...  1.370970  1.832749 -0.764466 -0.798898   \n",
       "\n",
       "        95        96        97        98        99   100  \n",
       "0 -0.857529 -0.356192 -1.936440  0.401144  1.153917  1.0  \n",
       "1  1.560685 -0.368825  1.332361 -0.572449  0.350933  1.0  \n",
       "2 -1.773915  0.192610  0.015297  0.189114 -0.967398  0.0  \n",
       "3  0.779582  0.377120 -0.484402  0.495000  1.078188  0.0  \n",
       "4 -3.144816  0.041235  0.710892  1.701078 -1.190387  1.0  \n",
       "\n",
       "[5 rows x 101 columns]"
      ]
     },
     "execution_count": 3,
     "metadata": {},
     "output_type": "execute_result"
    }
   ],
   "source": [
    "df.head()"
   ]
  },
  {
   "cell_type": "code",
   "execution_count": 4,
   "id": "5f9cf53e",
   "metadata": {},
   "outputs": [],
   "source": [
    "x=df.iloc[:,0:100]\n",
    "y=df.iloc[:,100]\n",
    "test_frac=0.33"
   ]
  },
  {
   "cell_type": "code",
   "execution_count": 5,
   "id": "b3868bd0",
   "metadata": {},
   "outputs": [],
   "source": [
    "#Since our aim is to achieve a balance between bias and variance we will use a validation set \n",
    "#to evaluate a model's performance during training and prevent overfitting, \n",
    "#which is when a model performs well on training data but not on new data\n",
    "x_dev,x_test,y_dev,y_test=train_test_split(x,y,test_size=test_frac,random_state=42)\n",
    "x_train,x_val,y_train,y_val=train_test_split(x_dev,y_dev,test_size=test_frac,random_state=42)"
   ]
  },
  {
   "cell_type": "code",
   "execution_count": 18,
   "id": "46d63b20",
   "metadata": {},
   "outputs": [],
   "source": [
    "#using a helper function to reduce our effort \n",
    "def predict_class(classifier,x_train,y_train,x_test,y_test):\n",
    "    scaler = StandardScaler()# using it since it will improve performance of KNN and MLP\n",
    "    scaler.fit(x_train)\n",
    "    x_train_scaled = scaler.transform(x_train)\n",
    "    x_test_scaled = scaler.transform(x_test)\n",
    "    \n",
    "    model = classifier.fit(x_train_scaled, y_train)\n",
    "    train_acc=model.score(x_train_scaled,y_train)\n",
    "    test_acc=model.score(x_test_scaled,y_test)\n",
    "    return{'train_acc': train_acc,'test_acc':test_acc}\n",
    "    \n",
    "    "
   ]
  },
  {
   "cell_type": "code",
   "execution_count": 19,
   "id": "1d8ddcea",
   "metadata": {},
   "outputs": [
    {
     "name": "stdout",
     "output_type": "stream",
     "text": [
      "{'train_acc': 0.8738738738738738, 'test_acc': 0.8214285714285714}\n"
     ]
    }
   ],
   "source": [
    "# First choice of model is KNN \n",
    "res=predict_class(KNeighborsClassifier(),x_train,y_train,x_val,y_val)\n",
    "print(res)"
   ]
  },
  {
   "cell_type": "code",
   "execution_count": null,
   "id": "7522d6a4",
   "metadata": {},
   "outputs": [],
   "source": []
  },
  {
   "cell_type": "code",
   "execution_count": null,
   "id": "ad293d34",
   "metadata": {},
   "outputs": [],
   "source": [
    "# The training accuracy is not too high and test accuracy(model tested on validation set ) is also decent\n",
    "# it means model is performing well on unseen data \n",
    "# Therefore we conclude there is no sign of overfitting\n",
    "# Since training accuracy is decent, we can conclude \n",
    "# Undefitting is not the risk in our KNN model\n",
    "#Also as for considering dimensionality of dataset, we can see the performance is decent, due to which \n",
    "#there does not seem the need to consider reducing dimesionality using PCA in order for the model to perform better"
   ]
  },
  {
   "cell_type": "code",
   "execution_count": 63,
   "id": "c888290c",
   "metadata": {},
   "outputs": [
    {
     "name": "stdout",
     "output_type": "stream",
     "text": [
      "{'train_acc': 0.8738738738738738, 'test_acc': 0.8795180722891566}\n"
     ]
    }
   ],
   "source": [
    "#using the test data since we have decided the model and looked for bias-variance balance\n",
    "res=predict_class(KNeighborsClassifier(),x_train,y_train,x_test,y_test)\n",
    "print(res)"
   ]
  },
  {
   "cell_type": "code",
   "execution_count": 20,
   "id": "04454e90",
   "metadata": {},
   "outputs": [
    {
     "name": "stdout",
     "output_type": "stream",
     "text": [
      "{'train_acc': 1.0, 'test_acc': 0.7857142857142857}\n"
     ]
    }
   ],
   "source": [
    "#The second choice of Classification Algorithm is MLP \n",
    "#using a random number for nodes=90\n",
    "res=predict_class(MLPClassifier(hidden_layer_sizes=(90,),random_state=42),x_train,y_train,x_val,y_val)\n",
    "print(res)"
   ]
  },
  {
   "cell_type": "code",
   "execution_count": 40,
   "id": "e0bdaa0c",
   "metadata": {},
   "outputs": [],
   "source": [
    "# helper functions \n",
    "def predict_class_labels(classifier,x_train,y_train,x_test):\n",
    "    scaler = StandardScaler()\n",
    "    scaler.fit(x_train)\n",
    "    x_train_scaled = scaler.transform(x_train)\n",
    "    x_test_scaled = scaler.transform(x_test)\n",
    "    \n",
    "    model = classifier.fit(x_train_scaled, y_train)\n",
    "   \n",
    "    y_pred = model.predict(x_test_scaled)\n",
    "    \n",
    "   \n",
    "    \n",
    "    return y_pred"
   ]
  },
  {
   "cell_type": "code",
   "execution_count": 41,
   "id": "b8836873",
   "metadata": {},
   "outputs": [],
   "source": [
    "# Display results like confusion matrix and classification report\n",
    "def display_model_results_full(title,classifier,x_train,y_train,x_test,y_test):\n",
    "    print(title + '. Full results')\n",
    "\n",
    "    y_pred = predict_class_labels(classifier,x_train,y_train,x_test)\n",
    "    \n",
    "    cm = confusion_matrix(y_test, y_pred)\n",
    "    ConfusionMatrixDisplay(confusion_matrix = cm,display_labels=classifier.classes_).plot()\n",
    "    plt.show() \n",
    "    \n",
    "    print(classification_report(y_test, y_pred))\n",
    "    print('\\n')"
   ]
  },
  {
   "cell_type": "code",
   "execution_count": 35,
   "id": "5771c6bc",
   "metadata": {},
   "outputs": [],
   "source": [
    "#helper function for displaying results in brief\n",
    "def display_model_results_brief(title,classifier,x_train,y_train,x_test,y_test):\n",
    "    print(title + '. Brief results')\n",
    "    \n",
    "    y_pred = predict_class_labels(classifier,x_train,y_train,x_val)\n",
    "    \n",
    "    print('f1 score: {}'.format(f1_score(y_test,y_pred,average='macro')))\n",
    "    print('accuracy: {}'.format(accuracy_score(y_test,y_pred)))\n",
    "    print('\\n')"
   ]
  },
  {
   "cell_type": "code",
   "execution_count": 32,
   "id": "a693c6b1",
   "metadata": {},
   "outputs": [
    {
     "name": "stdout",
     "output_type": "stream",
     "text": [
      "10 nodes in hidden layer. Brief results\n",
      "f1 score: 0.7468409586056645\n",
      "accuracy: 0.7469879518072289\n",
      "\n",
      "\n",
      "20 nodes in hidden layer. Brief results\n",
      "f1 score: 0.7705514331441874\n",
      "accuracy: 0.7710843373493976\n",
      "\n",
      "\n",
      "30 nodes in hidden layer. Brief results\n",
      "f1 score: 0.746987951807229\n",
      "accuracy: 0.7469879518072289\n",
      "\n",
      "\n",
      "40 nodes in hidden layer. Brief results\n",
      "f1 score: 0.7941047716328615\n",
      "accuracy: 0.7951807228915663\n",
      "\n",
      "\n",
      "50 nodes in hidden layer. Brief results\n",
      "f1 score: 0.7828488372093023\n",
      "accuracy: 0.7831325301204819\n",
      "\n",
      "\n",
      "60 nodes in hidden layer. Brief results\n",
      "f1 score: 0.7828488372093023\n",
      "accuracy: 0.7831325301204819\n",
      "\n",
      "\n",
      "70 nodes in hidden layer. Brief results\n",
      "f1 score: 0.7828488372093023\n",
      "accuracy: 0.7831325301204819\n",
      "\n",
      "\n",
      "80 nodes in hidden layer. Brief results\n",
      "f1 score: 0.7828488372093023\n",
      "accuracy: 0.7831325301204819\n",
      "\n",
      "\n",
      "90 nodes in hidden layer. Brief results\n",
      "f1 score: 0.7947039138658518\n",
      "accuracy: 0.7951807228915663\n",
      "\n",
      "\n",
      "100 nodes in hidden layer. Brief results\n",
      "f1 score: 0.7947039138658518\n",
      "accuracy: 0.7951807228915663\n",
      "\n",
      "\n"
     ]
    }
   ],
   "source": [
    "#using a range to decide what should be number of nodes based on accuracy score and f1 score\n",
    "for i in range(10,101,10):\n",
    "    display_model_results_brief('{} nodes in hidden layer'.format(i),\n",
    "                                MLPClassifier(hidden_layer_sizes=(i),max_iter=1000,random_state=42),\n",
    "                                x_train,y_train,x_val,y_val)"
   ]
  },
  {
   "cell_type": "code",
   "execution_count": 44,
   "id": "cd7f86bb",
   "metadata": {},
   "outputs": [
    {
     "name": "stdout",
     "output_type": "stream",
     "text": [
      "35 nodes in hidden layer. Brief results\n",
      "f1 score: 0.7786561264822136\n",
      "accuracy: 0.7857142857142857\n",
      "\n",
      "\n",
      "36 nodes in hidden layer. Brief results\n",
      "f1 score: 0.8379942140790742\n",
      "accuracy: 0.8392857142857143\n",
      "\n",
      "\n",
      "37 nodes in hidden layer. Brief results\n",
      "f1 score: 0.7659916425586628\n",
      "accuracy: 0.7678571428571429\n",
      "\n",
      "\n",
      "38 nodes in hidden layer. Brief results\n",
      "f1 score: 0.7786561264822136\n",
      "accuracy: 0.7857142857142857\n",
      "\n",
      "\n",
      "39 nodes in hidden layer. Brief results\n",
      "f1 score: 0.78125\n",
      "accuracy: 0.7857142857142857\n",
      "\n",
      "\n",
      "40 nodes in hidden layer. Brief results\n",
      "f1 score: 0.7846153846153845\n",
      "accuracy: 0.7857142857142857\n",
      "\n",
      "\n",
      "41 nodes in hidden layer. Brief results\n",
      "f1 score: 0.8205128205128205\n",
      "accuracy: 0.8214285714285714\n",
      "\n",
      "\n",
      "42 nodes in hidden layer. Brief results\n",
      "f1 score: 0.800453514739229\n",
      "accuracy: 0.8035714285714286\n",
      "\n",
      "\n",
      "43 nodes in hidden layer. Brief results\n",
      "f1 score: 0.7250409165302782\n",
      "accuracy: 0.7321428571428571\n",
      "\n",
      "\n",
      "44 nodes in hidden layer. Brief results\n",
      "f1 score: 0.7278911564625851\n",
      "accuracy: 0.7321428571428571\n",
      "\n",
      "\n",
      "45 nodes in hidden layer. Brief results\n",
      "f1 score: 0.7417654808959158\n",
      "accuracy: 0.75\n",
      "\n",
      "\n",
      "46 nodes in hidden layer. Brief results\n",
      "f1 score: 0.7832258064516129\n",
      "accuracy: 0.7857142857142857\n",
      "\n",
      "\n",
      "47 nodes in hidden layer. Brief results\n",
      "f1 score: 0.7447916666666666\n",
      "accuracy: 0.75\n",
      "\n",
      "\n",
      "48 nodes in hidden layer. Brief results\n",
      "f1 score: 0.7470967741935484\n",
      "accuracy: 0.75\n",
      "\n",
      "\n",
      "49 nodes in hidden layer. Brief results\n",
      "f1 score: 0.7470967741935484\n",
      "accuracy: 0.75\n",
      "\n",
      "\n"
     ]
    }
   ],
   "source": [
    "# At no of nodes 40 and 100 the results peaked\n",
    "#lets dive into the range of 40 nodes\n",
    "for i in range(35,50):\n",
    "    display_model_results_brief(\n",
    "        '{} nodes in hidden layer'.format(i),\n",
    "        MLPClassifier(hidden_layer_sizes=(i),max_iter=1000,random_state=42),\n",
    "        x_train,y_train,x_val,y_val)"
   ]
  },
  {
   "cell_type": "code",
   "execution_count": 45,
   "id": "aae29775",
   "metadata": {},
   "outputs": [
    {
     "name": "stdout",
     "output_type": "stream",
     "text": [
      "41 nodes in hidden layer. Full results\n"
     ]
    },
    {
     "data": {
      "image/png": "[encoded data removed]",
      "text/plain": [
       "<Figure size 432x288 with 2 Axes>"
      ]
     },
     "metadata": {
      "needs_background": "light"
     },
     "output_type": "display_data"
    },
    {
     "name": "stdout",
     "output_type": "stream",
     "text": [
      "              precision    recall  f1-score   support\n",
      "\n",
      "         0.0       0.86      0.81      0.83        31\n",
      "         1.0       0.78      0.84      0.81        25\n",
      "\n",
      "    accuracy                           0.82        56\n",
      "   macro avg       0.82      0.82      0.82        56\n",
      "weighted avg       0.82      0.82      0.82        56\n",
      "\n",
      "\n",
      "\n"
     ]
    }
   ],
   "source": [
    "#Best score observed with 41 nodes in the hidden layer. Let's look at the result in more detail.\n",
    "display_model_results_full(\n",
    "    '41 nodes in hidden layer',\n",
    "    MLPClassifier(hidden_layer_sizes=(41,),max_iter=1000,random_state=42),\n",
    "    x_train,y_train,x_val,y_val)"
   ]
  },
  {
   "cell_type": "code",
   "execution_count": 47,
   "id": "ec44c860",
   "metadata": {},
   "outputs": [
    {
     "name": "stdout",
     "output_type": "stream",
     "text": [
      "{'train_acc': 1.0, 'test_acc': 0.8214285714285714}\n"
     ]
    }
   ],
   "source": [
    "#The choice of nodes is 41 \n",
    "res=predict_class(MLPClassifier(hidden_layer_sizes=(41,),random_state=42,max_iter=1000),x_train,y_train,x_val,y_val)\n",
    "print(res)"
   ]
  },
  {
   "cell_type": "code",
   "execution_count": null,
   "id": "b32cd379",
   "metadata": {},
   "outputs": [],
   "source": [
    "# As it is clear from trainig accuracy that a score of 1 is acheived \n",
    "# Which is a perfect score, it indicates overfitting\n",
    "# model is performing exceedingly well on the training data \n",
    "#As for the unseen data from validation set the model's performance is decent \n",
    "#So in order to prevent this overfitting, we will regularize the parameter alpha \n",
    "#And test the training and validation accuracy \n"
   ]
  },
  {
   "cell_type": "code",
   "execution_count": 61,
   "id": "bfd3f612",
   "metadata": {},
   "outputs": [
    {
     "name": "stdout",
     "output_type": "stream",
     "text": [
      "Best validation accuracy 0.8035714285714286 at alpha =10 \n"
     ]
    },
    {
     "data": {
      "text/plain": [
       "<matplotlib.legend.Legend at 0x23ad7f486d0>"
      ]
     },
     "execution_count": 61,
     "metadata": {},
     "output_type": "execute_result"
    },
    {
     "data": {
      "image/png": "[encoded data removed]",
      "text/plain": [
       "<Figure size 432x288 with 1 Axes>"
      ]
     },
     "metadata": {
      "needs_background": "light"
     },
     "output_type": "display_data"
    }
   ],
   "source": [
    "alphas=np.arange(10,60,10)\n",
    "train_acc=[]\n",
    "val_acc=[]\n",
    "for alpha_val in alphas:\n",
    "    res=predict_class(MLPClassifier(hidden_layer_sizes=(41,),random_state=42,alpha=alpha_val,max_iter=1000),x_train,y_train,x_val,y_val)\n",
    "    train_acc.append(res['train_acc'])\n",
    "    val_acc.append(res['test_acc'])\n",
    "index_min=np.argmax(val_acc)\n",
    "print('Best validation accuracy {} at alpha ={} '.format(val_acc[index_min],alphas[index_min]))\n",
    "plt.xlabel('alpha')\n",
    "plt.ylabel('accuracy')\n",
    "plt.plot(alphas,train_acc,color='blue',linewidth=1,label='Training Accuracy')\n",
    "plt.plot(alphas,val_acc,color='red',linewidth=1,label='Validation Accuracy')\n",
    "plt.legend()"
   ]
  },
  {
   "cell_type": "code",
   "execution_count": null,
   "id": "04dad86f",
   "metadata": {},
   "outputs": [],
   "source": [
    "# the best validation accuracy is found at alpha =10 but the traning accuracy is very high at alpha=10\n",
    "#This is due to overfitting\n",
    "#as the alpha increases, the high variance is fixed as we can see the training accuracy is decreasing\n",
    "#the margin between traning and validation accuracy is getting decreased \n",
    "#by this we can say at around alpha=50 , we are getting a model \n",
    "#which is more genralizable as the traning accuracy isnt too high and the validation accuracy is quite decent around.74"
   ]
  },
  {
   "cell_type": "code",
   "execution_count": 64,
   "id": "3e774f56",
   "metadata": {},
   "outputs": [
    {
     "name": "stdout",
     "output_type": "stream",
     "text": [
      "{'train_acc': 0.8738738738738738, 'test_acc': 0.7469879518072289}\n"
     ]
    }
   ],
   "source": [
    "#the choice of alpha is 50 , now we can use the test data\n",
    "res=predict_class(MLPClassifier(hidden_layer_sizes=(41,),random_state=42,alpha=50,max_iter=1000),x_train,y_train,x_test,y_test)\n",
    "print(res)"
   ]
  },
  {
   "cell_type": "code",
   "execution_count": null,
   "id": "1dbc3708",
   "metadata": {},
   "outputs": [],
   "source": [
    "#As for considering dimensionality of dataset, we can see the performance is decent, due to which \n",
    "#there does not seem the need to consider reducing dimesionality using PCA in order for the model to perform better"
   ]
  }
 ],
 "metadata": {
  "kernelspec": {
   "display_name": "Python 3",
   "language": "python",
   "name": "python3"
  },
  "language_info": {
   "codemirror_mode": {
    "name": "ipython",
    "version": 3
   },
   "file_extension": ".py",
   "mimetype": "text/x-python",
   "name": "python",
   "nbconvert_exporter": "python",
   "pygments_lexer": "ipython3",
   "version": "3.8.8"
  }
 },
 "nbformat": 4,
 "nbformat_minor": 5
}
